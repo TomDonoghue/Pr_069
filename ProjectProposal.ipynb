{
 "cells": [
  {
   "cell_type": "markdown",
   "metadata": {},
   "source": [
    "# COGS 108 - Project Proposal"
   ]
  },
  {
   "cell_type": "markdown",
   "metadata": {},
   "source": [
    "## Important\n",
    "\n",
    "- Make sure all group members (3-5 people) are listed in the group members section.\n",
    "- ONE, and only one, member of your group should upload this notebook to TritonED. \n",
    "- Each member of the group will receive the same grade on this assignment. \n",
    "- Keep the file name the same: submit the file 'ProjectProposal.ipynb'"
   ]
  },
  {
   "cell_type": "markdown",
   "metadata": {},
   "source": [
    "## Overview"
   ]
  },
  {
   "cell_type": "markdown",
   "metadata": {},
   "source": [
    "Read the project description and detailed instructions for this assignment in the 'ProjectOutline' document."
   ]
  },
  {
   "cell_type": "markdown",
   "metadata": {},
   "source": [
    "## Group Members: Fill in the Student IDs of each group member here\n",
    "\n",
    "Replace the lines below to list each persons full student ID. Add lines as needed for your group size, and make sure each ID is listed on a separate line. \n",
    "\n",
    "- A12078880\n",
    "- A12463610\n",
    "- A12897002\n",
    "- A14512061\n",
    "- A14224605"
   ]
  },
  {
   "cell_type": "markdown",
   "metadata": {},
   "source": [
    "### Research Question\n",
    "\n",
    "What is your research question? (1-2 sentences)"
   ]
  },
  {
   "cell_type": "markdown",
   "metadata": {},
   "source": [
    "Which college (out of the currently ranked top 50) is the optimal spot for the user based on major, college tutiton fees, cost of living, and estimated salary after receiving a diploma?"
   ]
  },
  {
   "cell_type": "markdown",
   "metadata": {},
   "source": [
    "# Hypothesis\n",
    "\n",
    "We predict that, the higher the school ranks, the better it will be for the user to attend since it will give them the highest salaries after graduating. The users will be able to make their decision as to which college to attend in an organized, knowledgeable manner, since they are able to account for salary deficits that tution and housing cost for their time at university. The goal is to match each user with a list of optimal educational institutions, ranked 1-50, while also supplying presumed total cost of tuition and housing for each college."
   ]
  },
  {
   "cell_type": "markdown",
   "metadata": {},
   "source": [
    "### Dataset(s)\n",
    "\n",
    "What data will you use to answer your question? Describe the dataset(s) in terms of number of observations, what kind of features it contains, etc. You must use at least one dataset containing at least approximately 1000 observations (if your data are smaller but you feel they are sufficient, email Prof. Voytek). You are welcome (and in fact recommended) to find multiple datasets! If you do so, describe each one, and briefly explain how you will combine them together. "
   ]
  },
  {
   "cell_type": "markdown",
   "metadata": {},
   "source": [
    "Dataset 1:\n",
    "- Dataset Name: Salary Dataset - (after attending for X years)\n",
    "- Link to the dataset: https://www.bls.gov/oes/tables.htm\n",
    "- Number of observations: 158,629\n",
    "\n",
    "This data set is assembled by the bureau of labor statistics and includes many examples of jobs filled with a salary and location included in each observation.\n",
    "\n",
    "Dataset 2:\n",
    "- Dataset Name: College Score Card\n",
    "- Link to the dataset: https://collegescorecard.ed.gov/data/\n",
    "- Number of observations: 7,500\n",
    "\n",
    "This data set is assembled by the U.S. Department of Education and includes many different aspects of each university listed. It includes most, if not all, 4-year institutions in the U.S. and has very detailed information about each one, as described in the link.\n",
    "\n",
    "We plan to combine these data sets in our analysis.  At a high level, we plan to build up an idea of the job opportunity and expected salary around a given location for a given field and then compare that to the cost of attendance of the universities nearby."
   ]
  },
  {
   "cell_type": "markdown",
   "metadata": {},
   "source": [
    "### Background and Prior Work\n",
    "\n",
    "Why is this question of interest, what background information led you to your hypothesis, and why is this important?\n",
    "\n",
    "Find some relevant prior work, and reference those sources. Even if you think you have a totally novel question, find the most similar prior work that you can and discuss how it relates to your project. \n",
    "\n",
    "References can be research publications, but they need not be. Blogs, github repositories, company websites, etc., are all viable references if they are relevant to your project.\n",
    "\n",
    "(2-3 paragraphs, including at least 2 references)"
   ]
  },
  {
   "cell_type": "markdown",
   "metadata": {},
   "source": [
    "Looking at Time, Inc.'s Money section, we found they compliled a list of what the average graduate makes right out of college. The 2016 graduate's salaries were calculated based on their Bachelor's Degree Major one year prior to graduating. We found this very interesting, as it applies similarly to one aspect of our project. \n",
    "\n",
    "The National Association for College Admission Counseling Association posted an article on their website displaying the average price of attendance to college in 2017-2018. The article also included information about housing, extra university fees, meals, supplies and transportation. \n",
    "\n",
    "These data are very relevant to what we are doing, but we are going into specific detail to find this information on an individual basis. \n",
    "\n",
    "References (include links):\n",
    "- 1) http://time.com/money/collection-post/3829776/heres-what-the-average-grad-makes-right-out-of-college/\n",
    "- 2) https://www.collegedata.com/cs/content/content_payarticle_tmpl.jhtml?articleId=10064"
   ]
  },
  {
   "cell_type": "markdown",
   "metadata": {},
   "source": [
    "### Proposed Methods\n",
    "\n",
    "What methods will you use to analyze your data?\n",
    "\n",
    "- How 'clean' is the data? To the extent that it requires cleaning, how will you do so?\n",
    "- How will you analyze the data? Be as specific as you can. Briefly mention any pre-processing steps that are required for your methods (for example, checking data distributions and performing any transformations that may be required). Include a brief outline of how you will apply your chosen method(s). \n",
    "- What do you plan to report? Briefly mention any key visualizations you plan to create, and/or the kind of results you will be able to report that address your question (this could be, for example, the outcome of some statistical test(s), prediction error on a model, a model fit parameter, etc.).\n",
    "- Include a list of packages you expect to use for you project. If you plan to use packages we have not used in class, add a very brief description about them (a few words is sufficient). "
   ]
  },
  {
   "cell_type": "markdown",
   "metadata": {},
   "source": [
    "*Fill in your proposed methods information here:*\n",
    "\n",
    "*Data Cleaning*\n",
    "\n",
    "Initially, we use our salary data and the Google Maps API to find salaries of positions with the right title in the same area as the college we are examining, which requires little to no cleaning because Google Maps has very effective fuzzy search.  If no data is found, we leave expected salary as NaN.  To tie that data in with the College Score Card data, we need to match universities of the same name between data sets, so we will standardize both to an extent and modify individually as needed.\n",
    "\n",
    "*Data Analysis*\n",
    "\n",
    "At a high level, we expect to be able to analyze the value a student might get from attending a particular university and choosing a particular major.  We can first examine many aspects of the data that is available to us through the college score card data set.  For example, a student with a low-income background can expect to have a higher level of financial aid and lower overall cost of attendance.  Therefore, that student might be able to get value from a degree with lower-paying job prospects.  However, a student with a high-income financial background might need to pay more to make their way through school and would therefore be limited to majors with higher expected salaries to get good value for their investment.  The score card data is also has data about retention and completion rates, so universities with very low completion rates might have a lower \"expected\" value given the higher chance of not completing.\n",
    "\n",
    "With this data, we can perform some unsupervised learning to group these university-major pairings into low, medium, and high value education investments.  We can then look at the schools or majors which most commonly show up in the highest value category to give general recommendations, or look at the highest value specific pairings to make more specific recommendations.\n",
    "\n",
    "*What to report*\n",
    "\n",
    "We will report the categories we find in the university-major pairings and which category each pairing falls in.  We will show a comprehensive analysis of all the comparisons and statistics mentioned in our data analysis section and show some of the more interesting results we find in terms of colleges that might be ranked lower overall but may have high earning potential for their area.\n",
    "\n",
    "Packages we plan to use:\n",
    "- numpy\n",
    "- pandas\n",
    "- sklearn\n",
    "- matplotlib"
   ]
  },
  {
   "cell_type": "markdown",
   "metadata": {},
   "source": [
    "### Ethics and Privacy\n",
    "\n",
    "Briefly acknowledge and address any potential issues of ethics and privacy for the proposed project. In particular:\n",
    "- Do you have permission to use this data, for this purpose?\n",
    "- Are there privacy concerns regarding your datasets that you need to deal with, and/or terms of use that you need to comply with?\n",
    "- Are there potential biases in your dataset(s), in terms of who it composes, and how it was collected, that may be problematic in terms of it allowing for equitable analysis? (For example, does your data exclude particular populations, or is it likely to reflect particular human biases in a way that could be a problem?) \n",
    "- Are there any other issues related to your topic area, data, and/or analyses that are potentially problematic in terms of data privacy and equitable impact?\n",
    "- How will you handle any issues you identify?\n",
    "\n",
    "\n",
    "The data we are using is publicly available for download and comes with permission to use it.  For our salary data, we are only using a salary and city to perform data analysis, which is not enough to de-anonymize anyone.  The college score card data is only data relative to colleges in general, though the data has many categories profiling the student body.  These include things like financial background and race, but the only data included is statistics about the student body as a whole, so there shouldn't be any information about any particular individual in that data.  There is a remote possibility of looking at a school with very low population, and maybe a population of only 3 of a particular race.  In such a case, there may be a possibility of identifying individuals.  However, we are only looking at the top 50 or so universities which all have reasonably large student bodies, so I don't expect this to be a possibility.\n",
    "\n",
    "In terms of biases in the data, we don't have the possibility for much.  Our salary data is taken directly from those reporting, so it is possible that it will skew higher, as people with lower salaries may not want to report theirs.  The college score card data is purely statistics about the student body, so there is little room for bias or interpretation there."
   ]
  },
  {
   "cell_type": "markdown",
   "metadata": {},
   "source": [
    "### Discussion\n",
    "\n",
    "Discuss your project, looking forward to what your results might mean, how they fit it in with what is already known, and what problems you may encounter. \n",
    "\n",
    "In particular:\n",
    "- If your analyses and hypotheses are correct, what will be the contribution of this project to the topic domain? \n",
    "- Alternatively, what will you do if you methods don't work and/or your hypotheses are wrong? \n",
    "- What are the potential pitfalls and potential confounds of your data and/or methods that may cause problems, and/or influence your interpretations?\n",
    "\n",
    "\n",
    "The aim of this project is to help aid individual students in viewing a list of the top 50 colleges in the United States, and help them decipher which college will be optimal for them based on consideration to academics and monetary outcome/expendature. We want each person to have a list of which colleges specialize in the program they intend to study, that will also offer information for each institution's general salary outcome in their proposed department. We would also like to help our users consider the financial impact of their decision, as young adults may not be aware of the specific price range of housing/tuition versus the salary they will recieve when they gradute. The goal is to give options, with a personalized list of the best colleges for the perceived department in rank order 1-50, the average salary after graduating and the total financial cost of housing/tuition.\n",
    "\n",
    "\n",
    "If our predictions are wrong and the data does not accureatly depict the ideal college options for a student based on their major, or fails to account for the monetary characteristics of our ideal outcome, then we plan to reconsider our methods and our data.\n",
    "\n",
    "A potential pitfall of our data is that it does not include the student's demographics. For example, maybe a student of a certain racial or economic background is less likely to get into a specific college or get a job after graduating. The numbers included in our data sets are averages; therefore, we can only give suggestions for the average student on which college is best for them. Also, we do not take into account where the student might prefer to live. The best college option for a student might be in a different state or somewhere they do not wish to live."
   ]
  },
  {
   "cell_type": "code",
   "execution_count": null,
   "metadata": {
    "collapsed": true
   },
   "outputs": [],
   "source": []
  }
 ],
 "metadata": {
  "kernelspec": {
   "display_name": "Python 3",
   "language": "python",
   "name": "python3"
  },
  "language_info": {
   "codemirror_mode": {
    "name": "ipython",
    "version": 3
   },
   "file_extension": ".py",
   "mimetype": "text/x-python",
   "name": "python",
   "nbconvert_exporter": "python",
   "pygments_lexer": "ipython3",
   "version": "3.5.3"
  }
 },
 "nbformat": 4,
 "nbformat_minor": 2
}
